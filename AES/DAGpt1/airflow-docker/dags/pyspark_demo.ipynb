{
 "cells": [
  {
   "cell_type": "code",
   "execution_count": 28,
   "outputs": [],
   "source": [
    "from pyspark.sql import SparkSession"
   ],
   "metadata": {
    "collapsed": false,
    "pycharm": {
     "name": "#%%\n"
    }
   }
  },
  {
   "cell_type": "code",
   "execution_count": 29,
   "outputs": [],
   "source": [
    "spark = SparkSession.builder.appName('demo_spark').getOrCreate()"
   ],
   "metadata": {
    "collapsed": false,
    "pycharm": {
     "name": "#%%\n"
    }
   }
  },
  {
   "cell_type": "code",
   "execution_count": 30,
   "outputs": [
    {
     "data": {
      "text/plain": "<pyspark.sql.session.SparkSession at 0x10937d0a0>",
      "text/html": "\n            <div>\n                <p><b>SparkSession - in-memory</b></p>\n                \n        <div>\n            <p><b>SparkContext</b></p>\n\n            <p><a href=\"http://192.168.1.179:4040\">Spark UI</a></p>\n\n            <dl>\n              <dt>Version</dt>\n                <dd><code>v3.3.0</code></dd>\n              <dt>Master</dt>\n                <dd><code>local[*]</code></dd>\n              <dt>AppName</dt>\n                <dd><code>demo_spark</code></dd>\n            </dl>\n        </div>\n        \n            </div>\n        "
     },
     "execution_count": 30,
     "metadata": {},
     "output_type": "execute_result"
    }
   ],
   "source": [
    "spark"
   ],
   "metadata": {
    "collapsed": false,
    "pycharm": {
     "name": "#%%\n"
    }
   }
  },
  {
   "cell_type": "code",
   "execution_count": 31,
   "outputs": [],
   "source": [
    "df = spark.read.csv('pipeline_demo.csv', header=True, inferSchema=True)"
   ],
   "metadata": {
    "collapsed": false,
    "pycharm": {
     "name": "#%%\n"
    }
   }
  },
  {
   "cell_type": "code",
   "execution_count": 32,
   "outputs": [
    {
     "name": "stdout",
     "output_type": "stream",
     "text": [
      "root\n",
      " |-- total_bill: double (nullable = true)\n",
      " |-- tip: double (nullable = true)\n",
      " |-- sex: string (nullable = true)\n",
      " |-- smoker: string (nullable = true)\n",
      " |-- day: string (nullable = true)\n",
      " |-- time: string (nullable = true)\n",
      " |-- party_size: integer (nullable = true)\n",
      "\n"
     ]
    }
   ],
   "source": [
    "df.printSchema()"
   ],
   "metadata": {
    "collapsed": false,
    "pycharm": {
     "name": "#%%\n"
    }
   }
  },
  {
   "cell_type": "code",
   "execution_count": 33,
   "outputs": [
    {
     "name": "stdout",
     "output_type": "stream",
     "text": [
      "+----------+-----+---+------+---+------+----------+\n",
      "|total_bill|  tip|sex|smoker|day|  time|party_size|\n",
      "+----------+-----+---+------+---+------+----------+\n",
      "|     44.36|11.95|  M|    NO|FRI|DINNER|         6|\n",
      "|     29.98|28.73|  F|   YES|SAT| LUNCH|         6|\n",
      "|     85.73| 3.83|  M|    NO|SUN|DINNER|         2|\n",
      "|     87.12|42.78|  F|    NO|FRI| LUNCH|         5|\n",
      "|     53.98|52.54|  M|   YES|SUN| LUNCH|         4|\n",
      "|      52.6|38.34|  F|    NO|FRI|DINNER|         1|\n",
      "|     96.49|64.71|  F|    NO|FRI|DINNER|         1|\n",
      "|    113.59|39.58|  M|   YES|SAT| LUNCH|         5|\n",
      "|    120.74|81.52|  M|    NO|SUN|DINNER|         2|\n",
      "|     59.97|37.01|  F|    NO|FRI| LUNCH|         1|\n",
      "|     59.03|12.77|  F|   YES|SUN|DINNER|         4|\n",
      "|    122.98|31.78|  F|    NO|FRI| LUNCH|         1|\n",
      "|     65.07|50.31|  M|    NO|FRI| LUNCH|         6|\n",
      "|    113.22|98.03|  F|   YES|SAT|DINNER|         1|\n",
      "|     55.14|17.45|  M|    NO|SUN|DINNER|         3|\n",
      "|    110.84|33.44|  F|    NO|FRI| LUNCH|         2|\n",
      "|     53.02| 43.1|  M|   YES|SUN|DINNER|         4|\n",
      "|     74.51|36.29|  F|    NO|FRI| LUNCH|         4|\n",
      "|     92.86| 8.51|  F|   YES|FRI|DINNER|         5|\n",
      "|     62.52| 3.05|  M|   YES|SAT| LUNCH|         4|\n",
      "+----------+-----+---+------+---+------+----------+\n",
      "only showing top 20 rows\n",
      "\n"
     ]
    }
   ],
   "source": [
    "df.show()"
   ],
   "metadata": {
    "collapsed": false,
    "pycharm": {
     "name": "#%%\n"
    }
   }
  },
  {
   "cell_type": "code",
   "execution_count": 34,
   "outputs": [],
   "source": [
    "F_smokers = df.where((df.smoker == 'YES') & (df.sex == 'F'))\n"
   ],
   "metadata": {
    "collapsed": false,
    "pycharm": {
     "name": "#%%\n"
    }
   }
  },
  {
   "cell_type": "code",
   "execution_count": 35,
   "outputs": [
    {
     "name": "stdout",
     "output_type": "stream",
     "text": [
      "+----------+-----+---+------+---+------+----------+\n",
      "|total_bill|  tip|sex|smoker|day|  time|party_size|\n",
      "+----------+-----+---+------+---+------+----------+\n",
      "|     29.98|28.73|  F|   YES|SAT| LUNCH|         6|\n",
      "|     59.03|12.77|  F|   YES|SUN|DINNER|         4|\n",
      "|    113.22|98.03|  F|   YES|SAT|DINNER|         1|\n",
      "|     92.86| 8.51|  F|   YES|FRI|DINNER|         5|\n",
      "|      72.7| 5.56|  F|   YES|SUN|DINNER|         3|\n",
      "|    119.84|50.66|  F|   YES|FRI| LUNCH|         6|\n",
      "|     62.99|18.99|  F|   YES|SUN|DINNER|         1|\n",
      "+----------+-----+---+------+---+------+----------+\n",
      "\n"
     ]
    }
   ],
   "source": [
    "F_smokers.show()"
   ],
   "metadata": {
    "collapsed": false,
    "pycharm": {
     "name": "#%%\n"
    }
   }
  },
  {
   "cell_type": "code",
   "execution_count": 36,
   "outputs": [],
   "source": [
    "total_party = df.where((df.total_bill >= '55') & (df.party_size <= '4'))"
   ],
   "metadata": {
    "collapsed": false,
    "pycharm": {
     "name": "#%%\n"
    }
   }
  },
  {
   "cell_type": "code",
   "execution_count": 37,
   "outputs": [
    {
     "name": "stdout",
     "output_type": "stream",
     "text": [
      "+----------+-----+---+------+---+------+----------+\n",
      "|total_bill|  tip|sex|smoker|day|  time|party_size|\n",
      "+----------+-----+---+------+---+------+----------+\n",
      "|     85.73| 3.83|  M|    NO|SUN|DINNER|         2|\n",
      "|     96.49|64.71|  F|    NO|FRI|DINNER|         1|\n",
      "|    120.74|81.52|  M|    NO|SUN|DINNER|         2|\n",
      "|     59.97|37.01|  F|    NO|FRI| LUNCH|         1|\n",
      "|     59.03|12.77|  F|   YES|SUN|DINNER|         4|\n",
      "|    122.98|31.78|  F|    NO|FRI| LUNCH|         1|\n",
      "|    113.22|98.03|  F|   YES|SAT|DINNER|         1|\n",
      "|     55.14|17.45|  M|    NO|SUN|DINNER|         3|\n",
      "|    110.84|33.44|  F|    NO|FRI| LUNCH|         2|\n",
      "|     74.51|36.29|  F|    NO|FRI| LUNCH|         4|\n",
      "|     62.52| 3.05|  M|   YES|SAT| LUNCH|         4|\n",
      "|     69.12|66.08|  M|   YES|FRI|DINNER|         4|\n",
      "|      72.7| 5.56|  F|   YES|SUN|DINNER|         3|\n",
      "|     62.99|18.99|  F|   YES|SUN|DINNER|         1|\n",
      "|    121.55|36.38|  F|    NO|FRI| LUNCH|         1|\n",
      "+----------+-----+---+------+---+------+----------+\n",
      "\n"
     ]
    }
   ],
   "source": [
    "total_party.show()"
   ],
   "metadata": {
    "collapsed": false,
    "pycharm": {
     "name": "#%%\n"
    }
   }
  },
  {
   "cell_type": "code",
   "execution_count": 37,
   "outputs": [],
   "source": [],
   "metadata": {
    "collapsed": false,
    "pycharm": {
     "name": "#%%\n"
    }
   }
  }
 ],
 "metadata": {
  "kernelspec": {
   "display_name": "Python 3",
   "language": "python",
   "name": "python3"
  },
  "language_info": {
   "codemirror_mode": {
    "name": "ipython",
    "version": 2
   },
   "file_extension": ".py",
   "mimetype": "text/x-python",
   "name": "python",
   "nbconvert_exporter": "python",
   "pygments_lexer": "ipython2",
   "version": "2.7.6"
  }
 },
 "nbformat": 4,
 "nbformat_minor": 0
}